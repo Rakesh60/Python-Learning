{
 "cells": [
  {
   "cell_type": "code",
   "execution_count": 246,
   "id": "f753c24f-6144-4d87-8429-9b4dce090eb2",
   "metadata": {},
   "outputs": [],
   "source": [
    "import ctypes"
   ]
  },
  {
   "cell_type": "code",
   "execution_count": 247,
   "id": "f92f6ab1-c6a0-4cc4-bbfc-089085d1541a",
   "metadata": {},
   "outputs": [],
   "source": [
    "class MeraList:\n",
    "    def __init__(self):\n",
    "        self.size=1\n",
    "        self.n=0\n",
    "        self.A=self.__make_array(self.size)\n",
    "    def __len__(self):\n",
    "        return self.n\n",
    "    def append(self,item):\n",
    "        if self.n==self.size:\n",
    "            self.__resize(self.size*2)\n",
    "        self.A[self.n]=item\n",
    "        self.n=self.n+1\n",
    "        \n",
    "\n",
    "    def __resize(self,new_capacity):\n",
    "    # create a new array with new capacity\n",
    "        B = self.__make_array(new_capacity) #B is new array with size double of A\n",
    "        self.size = new_capacity\n",
    "    # copy the content of old array to new one\n",
    "        for i in range(self.n):\n",
    "          B[i] = self.A[i]\n",
    "    # reassign A\n",
    "        self.A = B\n",
    "            \n",
    "    def __make_array(self,capacity):\n",
    "        return (capacity*ctypes.py_object)()"
   ]
  },
  {
   "cell_type": "code",
   "execution_count": 332,
   "id": "2b5cd2a3-56ab-4cc6-af07-7ca218cae9d7",
   "metadata": {},
   "outputs": [],
   "source": [
    "L=MeraList()"
   ]
  },
  {
   "cell_type": "code",
   "execution_count": 333,
   "id": "4da1224c-8006-4c6b-9257-6c763c95d7a7",
   "metadata": {},
   "outputs": [
    {
     "data": {
      "text/plain": [
       "1"
      ]
     },
     "execution_count": 333,
     "metadata": {},
     "output_type": "execute_result"
    }
   ],
   "source": [
    "L.append(\"Hello\")\n",
    "len(L)"
   ]
  },
  {
   "cell_type": "code",
   "execution_count": 334,
   "id": "b7658074-342c-44a2-a4ab-2f632a74d066",
   "metadata": {},
   "outputs": [
    {
     "data": {
      "text/plain": [
       "1"
      ]
     },
     "execution_count": 334,
     "metadata": {},
     "output_type": "execute_result"
    }
   ],
   "source": [
    "L.__len__()"
   ]
  },
  {
   "cell_type": "code",
   "execution_count": null,
   "id": "913ddb92-8f98-429e-9a82-db2e8bdabe08",
   "metadata": {},
   "outputs": [],
   "source": []
  }
 ],
 "metadata": {
  "kernelspec": {
   "display_name": "Python 3 (ipykernel)",
   "language": "python",
   "name": "python3"
  },
  "language_info": {
   "codemirror_mode": {
    "name": "ipython",
    "version": 3
   },
   "file_extension": ".py",
   "mimetype": "text/x-python",
   "name": "python",
   "nbconvert_exporter": "python",
   "pygments_lexer": "ipython3",
   "version": "3.11.4"
  }
 },
 "nbformat": 4,
 "nbformat_minor": 5
}
