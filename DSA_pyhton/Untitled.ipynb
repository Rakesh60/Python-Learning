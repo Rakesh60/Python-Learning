{
 "cells": [
  {
   "cell_type": "code",
   "execution_count": 9,
   "id": "4daee68e-515b-465c-8ea6-40ac681face7",
   "metadata": {},
   "outputs": [
    {
     "name": "stdout",
     "output_type": "stream",
     "text": [
      "21\n",
      "720\n"
     ]
    }
   ],
   "source": [
    "l=[1,2,3,4,5,6]\n",
    "sum=0\n",
    "for i in l:\n",
    "    sum=sum+i\n",
    "print(sum)\n",
    "\n",
    "product=1\n",
    "for i in l:\n",
    "    product=product*i;\n",
    "print(product)\n",
    "#linear grapg"
   ]
  },
  {
   "cell_type": "code",
   "execution_count": null,
   "id": "8e74efd1-0f7b-41fb-9216-5188c00ca8fb",
   "metadata": {},
   "outputs": [],
   "source": []
  },
  {
   "cell_type": "code",
   "execution_count": null,
   "id": "22fc55de-eb3c-497b-bc6c-04c524405bdc",
   "metadata": {},
   "outputs": [],
   "source": []
  }
 ],
 "metadata": {
  "kernelspec": {
   "display_name": "Python 3 (ipykernel)",
   "language": "python",
   "name": "python3"
  },
  "language_info": {
   "codemirror_mode": {
    "name": "ipython",
    "version": 3
   },
   "file_extension": ".py",
   "mimetype": "text/x-python",
   "name": "python",
   "nbconvert_exporter": "python",
   "pygments_lexer": "ipython3",
   "version": "3.11.4"
  }
 },
 "nbformat": 4,
 "nbformat_minor": 5
}
